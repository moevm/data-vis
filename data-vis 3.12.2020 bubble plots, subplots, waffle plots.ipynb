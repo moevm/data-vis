{
 "cells":[
  {
   "cell_type":"code",
   "source":[
    "import pandas as pd\n",
    "import numpy as np\n",
    "import matplotlib as mpl\n",
    "import matplotlib.pyplot as plt\n",
    "import pandas_datareader as pdr\n",
    "from pandas_datareader import wb\n",
    "import matplotlib.patches as mpatches # для легенды"
   ],
   "execution_count":1,
   "outputs":[
    
   ],
   "metadata":{
    "datalore":{
     "type":"CODE",
     "hide_input_from_viewers":false,
     "hide_output_from_viewers":false,
     "node_id":"vTEBr83d7QgDCV3mr8BgVP"
    }
   }
  },
  {
   "cell_type":"code",
   "source":[
    "countries = wb.get_countries()\n",
    "df = wb.download(indicator=\"SP.DYN.LE00.IN\", country=countries['iso2c'], start='1980', end='2020')\n",
    "df.reset_index(inplace=True)\n",
    "df.rename(columns={'SP.DYN.LE00.IN':'lifespan'}, inplace=True)\n",
    "df = df.pivot(index='country', columns='year', values='lifespan')\n",
    "df.dropna(how='all', axis=1, inplace=True)\n",
    "df.dropna(how='all', axis=0, inplace=True)\n",
    "df.dropna(how='any', axis=0, inplace=True)\n",
    "df['Mean'] = df.mean(axis=1)"
   ],
   "execution_count":2,
   "outputs":[
    {
     "name":"stderr",
     "text":[
      "\/opt\/python\/envs\/default\/lib\/python3.8\/site-packages\/pandas_datareader\/wb.py:592: UserWarning: Non-standard ISO country codes: 1A, 1W, 4E, 6F, 6N, 6X, 7E, 8S, A4, A5, A9, B1, B2, B3, B4, B6, B7, B8, C4, C5, C6, C7, C8, C9, D2, D3, D4, D5, D6, D7, D8, D9, EU, F1, F6, JG, M1, M2, N6, OE, R6, S1, S2, S3, S4, T2, T3, T4, T5, T6, T7, V1, V2, V3, V4, XC, XD, XE, XF, XG, XH, XI, XJ, XK, XL, XM, XN, XO, XP, XQ, XT, XU, XY, Z4, Z7, ZB, ZF, ZG, ZH, ZI, ZJ, ZQ, ZT\n",
      "  warnings.warn(\n"
     ],
     "output_type":"stream"
    }
   ],
   "metadata":{
    "datalore":{
     "type":"CODE",
     "hide_input_from_viewers":false,
     "hide_output_from_viewers":false,
     "node_id":"sroNhvc16lU9zGUVQE9NFu"
    }
   }
  },
  {
   "cell_type":"code",
   "source":[
    "df.head()"
   ],
   "execution_count":4,
   "outputs":[
    {
     "data":{
      "text\/html":[
       "<div>\n",
       "<style scoped>\n",
       "    .dataframe tbody tr th:only-of-type {\n",
       "        vertical-align: middle;\n",
       "    }\n",
       "\n",
       "    .dataframe tbody tr th {\n",
       "        vertical-align: top;\n",
       "    }\n",
       "\n",
       "    .dataframe thead th {\n",
       "        text-align: right;\n",
       "    }\n",
       "<\/style>\n",
       "<table border=\"1\" class=\"dataframe\">\n",
       "  <thead>\n",
       "    <tr style=\"text-align: right;\">\n",
       "      <th>year<\/th>\n",
       "      <th>1980<\/th>\n",
       "      <th>1981<\/th>\n",
       "      <th>1982<\/th>\n",
       "      <th>1983<\/th>\n",
       "      <th>1984<\/th>\n",
       "      <th>1985<\/th>\n",
       "      <th>1986<\/th>\n",
       "      <th>1987<\/th>\n",
       "      <th>1988<\/th>\n",
       "      <th>1989<\/th>\n",
       "      <th>...<\/th>\n",
       "      <th>2010<\/th>\n",
       "      <th>2011<\/th>\n",
       "      <th>2012<\/th>\n",
       "      <th>2013<\/th>\n",
       "      <th>2014<\/th>\n",
       "      <th>2015<\/th>\n",
       "      <th>2016<\/th>\n",
       "      <th>2017<\/th>\n",
       "      <th>2018<\/th>\n",
       "      <th>Mean<\/th>\n",
       "    <\/tr>\n",
       "    <tr>\n",
       "      <th>country<\/th>\n",
       "      <th><\/th>\n",
       "      <th><\/th>\n",
       "      <th><\/th>\n",
       "      <th><\/th>\n",
       "      <th><\/th>\n",
       "      <th><\/th>\n",
       "      <th><\/th>\n",
       "      <th><\/th>\n",
       "      <th><\/th>\n",
       "      <th><\/th>\n",
       "      <th><\/th>\n",
       "      <th><\/th>\n",
       "      <th><\/th>\n",
       "      <th><\/th>\n",
       "      <th><\/th>\n",
       "      <th><\/th>\n",
       "      <th><\/th>\n",
       "      <th><\/th>\n",
       "      <th><\/th>\n",
       "      <th><\/th>\n",
       "      <th><\/th>\n",
       "    <\/tr>\n",
       "  <\/thead>\n",
       "  <tbody>\n",
       "    <tr>\n",
       "      <th>Afghanistan<\/th>\n",
       "      <td>43.244<\/td>\n",
       "      <td>43.923<\/td>\n",
       "      <td>44.617<\/td>\n",
       "      <td>45.324<\/td>\n",
       "      <td>46.040<\/td>\n",
       "      <td>46.761<\/td>\n",
       "      <td>47.486<\/td>\n",
       "      <td>48.211<\/td>\n",
       "      <td>48.930<\/td>\n",
       "      <td>49.640<\/td>\n",
       "      <td>...<\/td>\n",
       "      <td>61.028<\/td>\n",
       "      <td>61.553<\/td>\n",
       "      <td>62.054<\/td>\n",
       "      <td>62.525<\/td>\n",
       "      <td>62.966<\/td>\n",
       "      <td>63.377<\/td>\n",
       "      <td>63.763<\/td>\n",
       "      <td>64.130<\/td>\n",
       "      <td>64.486<\/td>\n",
       "      <td>54.898359<\/td>\n",
       "    <\/tr>\n",
       "    <tr>\n",
       "      <th>Albania<\/th>\n",
       "      <td>70.208<\/td>\n",
       "      <td>70.416<\/td>\n",
       "      <td>70.635<\/td>\n",
       "      <td>70.876<\/td>\n",
       "      <td>71.134<\/td>\n",
       "      <td>71.388<\/td>\n",
       "      <td>71.605<\/td>\n",
       "      <td>71.760<\/td>\n",
       "      <td>71.843<\/td>\n",
       "      <td>71.860<\/td>\n",
       "      <td>...<\/td>\n",
       "      <td>76.562<\/td>\n",
       "      <td>76.914<\/td>\n",
       "      <td>77.252<\/td>\n",
       "      <td>77.554<\/td>\n",
       "      <td>77.813<\/td>\n",
       "      <td>78.025<\/td>\n",
       "      <td>78.194<\/td>\n",
       "      <td>78.333<\/td>\n",
       "      <td>78.458<\/td>\n",
       "      <td>73.989103<\/td>\n",
       "    <\/tr>\n",
       "    <tr>\n",
       "      <th>Algeria<\/th>\n",
       "      <td>58.198<\/td>\n",
       "      <td>59.519<\/td>\n",
       "      <td>60.813<\/td>\n",
       "      <td>62.029<\/td>\n",
       "      <td>63.130<\/td>\n",
       "      <td>64.087<\/td>\n",
       "      <td>64.884<\/td>\n",
       "      <td>65.545<\/td>\n",
       "      <td>66.097<\/td>\n",
       "      <td>66.554<\/td>\n",
       "      <td>...<\/td>\n",
       "      <td>74.938<\/td>\n",
       "      <td>75.199<\/td>\n",
       "      <td>75.436<\/td>\n",
       "      <td>75.661<\/td>\n",
       "      <td>75.878<\/td>\n",
       "      <td>76.090<\/td>\n",
       "      <td>76.298<\/td>\n",
       "      <td>76.499<\/td>\n",
       "      <td>76.693<\/td>\n",
       "      <td>69.888513<\/td>\n",
       "    <\/tr>\n",
       "    <tr>\n",
       "      <th>Angola<\/th>\n",
       "      <td>44.178<\/td>\n",
       "      <td>44.404<\/td>\n",
       "      <td>44.611<\/td>\n",
       "      <td>44.799<\/td>\n",
       "      <td>44.966<\/td>\n",
       "      <td>45.107<\/td>\n",
       "      <td>45.213<\/td>\n",
       "      <td>45.283<\/td>\n",
       "      <td>45.317<\/td>\n",
       "      <td>45.324<\/td>\n",
       "      <td>...<\/td>\n",
       "      <td>55.350<\/td>\n",
       "      <td>56.330<\/td>\n",
       "      <td>57.236<\/td>\n",
       "      <td>58.054<\/td>\n",
       "      <td>58.776<\/td>\n",
       "      <td>59.398<\/td>\n",
       "      <td>59.925<\/td>\n",
       "      <td>60.379<\/td>\n",
       "      <td>60.782<\/td>\n",
       "      <td>49.477872<\/td>\n",
       "    <\/tr>\n",
       "    <tr>\n",
       "      <th>Antigua and Barbuda<\/th>\n",
       "      <td>68.482<\/td>\n",
       "      <td>68.818<\/td>\n",
       "      <td>69.156<\/td>\n",
       "      <td>69.491<\/td>\n",
       "      <td>69.820<\/td>\n",
       "      <td>70.137<\/td>\n",
       "      <td>70.440<\/td>\n",
       "      <td>70.728<\/td>\n",
       "      <td>71.004<\/td>\n",
       "      <td>71.267<\/td>\n",
       "      <td>...<\/td>\n",
       "      <td>75.823<\/td>\n",
       "      <td>75.956<\/td>\n",
       "      <td>76.087<\/td>\n",
       "      <td>76.218<\/td>\n",
       "      <td>76.349<\/td>\n",
       "      <td>76.483<\/td>\n",
       "      <td>76.617<\/td>\n",
       "      <td>76.752<\/td>\n",
       "      <td>76.885<\/td>\n",
       "      <td>73.369179<\/td>\n",
       "    <\/tr>\n",
       "  <\/tbody>\n",
       "<\/table>\n",
       "<p>5 rows × 40 columns<\/p>\n",
       "<\/div>"
      ]
     },
     "metadata":{
      
     },
     "output_type":"display_data"
    }
   ],
   "metadata":{
    "datalore":{
     "type":"CODE",
     "hide_input_from_viewers":false,
     "hide_output_from_viewers":false,
     "node_id":"Kjg0xtlMZLcbG6H0YRy4re"
    }
   }
  },
  {
   "cell_type":"code",
   "source":[
    "years = list(map(str, range(1980, 2019)))\n",
    "df_t = df[years].transpose()\n",
    "df_t.head()"
   ],
   "execution_count":5,
   "outputs":[
    {
     "data":{
      "text\/html":[
       "<div>\n",
       "<style scoped>\n",
       "    .dataframe tbody tr th:only-of-type {\n",
       "        vertical-align: middle;\n",
       "    }\n",
       "\n",
       "    .dataframe tbody tr th {\n",
       "        vertical-align: top;\n",
       "    }\n",
       "\n",
       "    .dataframe thead th {\n",
       "        text-align: right;\n",
       "    }\n",
       "<\/style>\n",
       "<table border=\"1\" class=\"dataframe\">\n",
       "  <thead>\n",
       "    <tr style=\"text-align: right;\">\n",
       "      <th>country<\/th>\n",
       "      <th>Afghanistan<\/th>\n",
       "      <th>Albania<\/th>\n",
       "      <th>Algeria<\/th>\n",
       "      <th>Angola<\/th>\n",
       "      <th>Antigua and Barbuda<\/th>\n",
       "      <th>Arab World<\/th>\n",
       "      <th>Argentina<\/th>\n",
       "      <th>Armenia<\/th>\n",
       "      <th>Aruba<\/th>\n",
       "      <th>Australia<\/th>\n",
       "      <th>...<\/th>\n",
       "      <th>Uruguay<\/th>\n",
       "      <th>Uzbekistan<\/th>\n",
       "      <th>Vanuatu<\/th>\n",
       "      <th>Venezuela, RB<\/th>\n",
       "      <th>Vietnam<\/th>\n",
       "      <th>Virgin Islands (U.S.)<\/th>\n",
       "      <th>World<\/th>\n",
       "      <th>Yemen, Rep.<\/th>\n",
       "      <th>Zambia<\/th>\n",
       "      <th>Zimbabwe<\/th>\n",
       "    <\/tr>\n",
       "    <tr>\n",
       "      <th>year<\/th>\n",
       "      <th><\/th>\n",
       "      <th><\/th>\n",
       "      <th><\/th>\n",
       "      <th><\/th>\n",
       "      <th><\/th>\n",
       "      <th><\/th>\n",
       "      <th><\/th>\n",
       "      <th><\/th>\n",
       "      <th><\/th>\n",
       "      <th><\/th>\n",
       "      <th><\/th>\n",
       "      <th><\/th>\n",
       "      <th><\/th>\n",
       "      <th><\/th>\n",
       "      <th><\/th>\n",
       "      <th><\/th>\n",
       "      <th><\/th>\n",
       "      <th><\/th>\n",
       "      <th><\/th>\n",
       "      <th><\/th>\n",
       "      <th><\/th>\n",
       "    <\/tr>\n",
       "  <\/thead>\n",
       "  <tbody>\n",
       "    <tr>\n",
       "      <th>1980<\/th>\n",
       "      <td>43.244<\/td>\n",
       "      <td>70.208<\/td>\n",
       "      <td>58.198<\/td>\n",
       "      <td>44.178<\/td>\n",
       "      <td>68.482<\/td>\n",
       "      <td>58.345023<\/td>\n",
       "      <td>69.496<\/td>\n",
       "      <td>70.937<\/td>\n",
       "      <td>72.293<\/td>\n",
       "      <td>74.333659<\/td>\n",
       "      <td>...<\/td>\n",
       "      <td>70.256<\/td>\n",
       "      <td>64.637<\/td>\n",
       "      <td>59.961<\/td>\n",
       "      <td>68.542<\/td>\n",
       "      <td>67.542<\/td>\n",
       "      <td>71.700122<\/td>\n",
       "      <td>62.841670<\/td>\n",
       "      <td>48.532<\/td>\n",
       "      <td>52.802<\/td>\n",
       "      <td>59.731<\/td>\n",
       "    <\/tr>\n",
       "    <tr>\n",
       "      <th>1981<\/th>\n",
       "      <td>43.923<\/td>\n",
       "      <td>70.416<\/td>\n",
       "      <td>59.519<\/td>\n",
       "      <td>44.404<\/td>\n",
       "      <td>68.818<\/td>\n",
       "      <td>58.977359<\/td>\n",
       "      <td>69.777<\/td>\n",
       "      <td>70.910<\/td>\n",
       "      <td>72.538<\/td>\n",
       "      <td>74.663415<\/td>\n",
       "      <td>...<\/td>\n",
       "      <td>70.536<\/td>\n",
       "      <td>64.914<\/td>\n",
       "      <td>60.528<\/td>\n",
       "      <td>68.795<\/td>\n",
       "      <td>67.942<\/td>\n",
       "      <td>71.930707<\/td>\n",
       "      <td>63.182505<\/td>\n",
       "      <td>49.778<\/td>\n",
       "      <td>52.863<\/td>\n",
       "      <td>60.203<\/td>\n",
       "    <\/tr>\n",
       "    <tr>\n",
       "      <th>1982<\/th>\n",
       "      <td>44.617<\/td>\n",
       "      <td>70.635<\/td>\n",
       "      <td>60.813<\/td>\n",
       "      <td>44.611<\/td>\n",
       "      <td>69.156<\/td>\n",
       "      <td>59.635997<\/td>\n",
       "      <td>70.033<\/td>\n",
       "      <td>70.776<\/td>\n",
       "      <td>72.751<\/td>\n",
       "      <td>74.904878<\/td>\n",
       "      <td>...<\/td>\n",
       "      <td>70.814<\/td>\n",
       "      <td>65.206<\/td>\n",
       "      <td>61.087<\/td>\n",
       "      <td>69.038<\/td>\n",
       "      <td>68.203<\/td>\n",
       "      <td>72.166244<\/td>\n",
       "      <td>63.508917<\/td>\n",
       "      <td>50.981<\/td>\n",
       "      <td>52.905<\/td>\n",
       "      <td>60.650<\/td>\n",
       "    <\/tr>\n",
       "    <tr>\n",
       "      <th>1983<\/th>\n",
       "      <td>45.324<\/td>\n",
       "      <td>70.876<\/td>\n",
       "      <td>62.029<\/td>\n",
       "      <td>44.799<\/td>\n",
       "      <td>69.491<\/td>\n",
       "      <td>60.316277<\/td>\n",
       "      <td>70.262<\/td>\n",
       "      <td>70.519<\/td>\n",
       "      <td>72.929<\/td>\n",
       "      <td>75.146341<\/td>\n",
       "      <td>...<\/td>\n",
       "      <td>71.085<\/td>\n",
       "      <td>65.504<\/td>\n",
       "      <td>61.632<\/td>\n",
       "      <td>69.272<\/td>\n",
       "      <td>68.439<\/td>\n",
       "      <td>72.410244<\/td>\n",
       "      <td>63.757021<\/td>\n",
       "      <td>52.117<\/td>\n",
       "      <td>52.915<\/td>\n",
       "      <td>61.025<\/td>\n",
       "    <\/tr>\n",
       "    <tr>\n",
       "      <th>1984<\/th>\n",
       "      <td>46.040<\/td>\n",
       "      <td>71.134<\/td>\n",
       "      <td>63.130<\/td>\n",
       "      <td>44.966<\/td>\n",
       "      <td>69.820<\/td>\n",
       "      <td>61.003761<\/td>\n",
       "      <td>70.466<\/td>\n",
       "      <td>70.150<\/td>\n",
       "      <td>73.071<\/td>\n",
       "      <td>75.387805<\/td>\n",
       "      <td>...<\/td>\n",
       "      <td>71.343<\/td>\n",
       "      <td>65.796<\/td>\n",
       "      <td>62.158<\/td>\n",
       "      <td>69.497<\/td>\n",
       "      <td>68.688<\/td>\n",
       "      <td>72.662220<\/td>\n",
       "      <td>64.021545<\/td>\n",
       "      <td>53.170<\/td>\n",
       "      <td>52.870<\/td>\n",
       "      <td>61.280<\/td>\n",
       "    <\/tr>\n",
       "  <\/tbody>\n",
       "<\/table>\n",
       "<p>5 rows × 237 columns<\/p>\n",
       "<\/div>"
      ]
     },
     "metadata":{
      
     },
     "output_type":"display_data"
    }
   ],
   "metadata":{
    "datalore":{
     "type":"CODE",
     "hide_input_from_viewers":false,
     "hide_output_from_viewers":false,
     "node_id":"d6qXKlx73fsbyMXzfxdgjy"
    }
   }
  },
  {
   "cell_type":"code",
   "source":[
    "J = 'Japan'\n",
    "R = 'Rwanda'\n",
    "\n",
    "norm_j = (df_t[J] - df_t[J].min())\/(df_t[J].max() - df_t[J].min())\n",
    "norm_r = (df_t[R] - df_t[R].min())\/(df_t[R].max() - df_t[R].min())"
   ],
   "execution_count":6,
   "outputs":[
    
   ],
   "metadata":{
    "datalore":{
     "type":"CODE",
     "hide_input_from_viewers":false,
     "hide_output_from_viewers":false,
     "node_id":"cZajYKRCLb5YVqkQ6OY7Dx"
    }
   }
  },
  {
   "cell_type":"code",
   "source":[
    "df_t.reset_index(inplace=True)\n",
    "df_t['year'] = df_t['year'].astype(int)"
   ],
   "execution_count":7,
   "outputs":[
    
   ],
   "metadata":{
    "datalore":{
     "type":"CODE",
     "hide_input_from_viewers":false,
     "hide_output_from_viewers":false,
     "node_id":"jcdKvkTsKXVok2VCn82Mqa"
    }
   }
  },
  {
   "cell_type":"code",
   "source":[
    "ax0 = df_t.plot(kind='scatter', \n",
    "            x = 'year', \n",
    "            y = 'Japan', \n",
    "            figsize=(24, 8), \n",
    "            alpha=0.75, \n",
    "            color='g', \n",
    "            xlim=(1975, 2025), \n",
    "            s=norm_j*1500)\n",
    "\n",
    "df_t.plot(kind='scatter', \n",
    "            x = 'year', \n",
    "            y = 'Rwanda', \n",
    "            figsize=(24, 8), \n",
    "            alpha=0.75, \n",
    "            color='violet', \n",
    "            xlim=(1975, 2025), \n",
    "            s=norm_r*1500, \n",
    "            ax=ax0)\n",
    "ax0.legend(['Japan', 'Rwanda'], loc='upper left')\n",
    "ax0.set_ylabel('Количество лет жизни')"
   ],
   "execution_count":8,
   "outputs":[
    {
     "data":{
      "text\/plain":[
       "Text(0, 0.5, 'Количество лет жизни')"
      ]
     },
     "metadata":{
      
     },
     "output_type":"display_data"
    },
    {
     "data":{
      
     },
     "metadata":{
      
     },
     "output_type":"display_data"
    }
   ],
   "metadata":{
    "datalore":{
     "type":"CODE",
     "hide_input_from_viewers":false,
     "hide_output_from_viewers":false,
     "node_id":"vzkVtmnVHemDeVUjoGuY6D"
    }
   }
  },
  {
   "cell_type":"code",
   "source":[
    "fig = plt.figure()\n",
    "ax0 = fig.add_subplot(1, 2, 1) # fig.add_subplot(121) одна строка, две колонки, левая часть\n",
    "ax1 = fig.add_subplot(1, 2, 2)\n",
    "\n",
    "df_t_sp = df[years].head().transpose()\n",
    "\n",
    "df_t_sp.plot(kind='box', figsize=(15, 6), ax=ax0)\n",
    "ax0.set_title('Box plot')\n",
    "ax0.set_ylabel('Средняя продолжительность жизни')\n",
    "df_t_sp.plot(figsize=(15, 6), ax=ax1)\n",
    "ax1.set_title('Line plot')\n",
    "ax1.set_ylabel('Средняя продолжительность жизни')"
   ],
   "execution_count":9,
   "outputs":[
    {
     "data":{
      "text\/plain":[
       "Text(0, 0.5, 'Средняя продолжительность жизни')"
      ]
     },
     "metadata":{
      
     },
     "output_type":"display_data"
    },
    {
     "data":{
      
     },
     "metadata":{
      
     },
     "output_type":"display_data"
    }
   ],
   "metadata":{
    "datalore":{
     "type":"CODE",
     "hide_input_from_viewers":false,
     "hide_output_from_viewers":false,
     "node_id":"nW4lSUMPe5IRgQ6hZWCHhD"
    }
   }
  },
  {
   "cell_type":"code",
   "source":[
    "# Задача\n",
    "# Построить три графика (вида box plot) в одной линии с помощью subplot для страны с худшей средней продолжительностью жизни за 3 десятилетия: 80е,90е,00е"
   ],
   "execution_count":10,
   "outputs":[
    
   ],
   "metadata":{
    "datalore":{
     "type":"CODE",
     "hide_input_from_viewers":false,
     "hide_output_from_viewers":false,
     "node_id":"CQrSg8RHlxxx6x08Qs9g2X"
    }
   }
  },
  {
   "cell_type":"code",
   "source":[
    "sorted_values = df.sort_values(by='Mean')\n",
    "sorted_values.head(1)"
   ],
   "execution_count":8,
   "outputs":[
    {
     "data":{
      "text\/html":[
       "<div>\n",
       "<style scoped>\n",
       "    .dataframe tbody tr th:only-of-type {\n",
       "        vertical-align: middle;\n",
       "    }\n",
       "\n",
       "    .dataframe tbody tr th {\n",
       "        vertical-align: top;\n",
       "    }\n",
       "\n",
       "    .dataframe thead th {\n",
       "        text-align: right;\n",
       "    }\n",
       "<\/style>\n",
       "<table border=\"1\" class=\"dataframe\">\n",
       "  <thead>\n",
       "    <tr style=\"text-align: right;\">\n",
       "      <th>year<\/th>\n",
       "      <th>1980<\/th>\n",
       "      <th>1981<\/th>\n",
       "      <th>1982<\/th>\n",
       "      <th>1983<\/th>\n",
       "      <th>1984<\/th>\n",
       "      <th>1985<\/th>\n",
       "      <th>1986<\/th>\n",
       "      <th>1987<\/th>\n",
       "      <th>1988<\/th>\n",
       "      <th>1989<\/th>\n",
       "      <th>...<\/th>\n",
       "      <th>2011<\/th>\n",
       "      <th>2012<\/th>\n",
       "      <th>2013<\/th>\n",
       "      <th>2014<\/th>\n",
       "      <th>2015<\/th>\n",
       "      <th>2016<\/th>\n",
       "      <th>2017<\/th>\n",
       "      <th>2018<\/th>\n",
       "      <th>2019<\/th>\n",
       "      <th>Mean<\/th>\n",
       "    <\/tr>\n",
       "    <tr>\n",
       "      <th>country<\/th>\n",
       "      <th><\/th>\n",
       "      <th><\/th>\n",
       "      <th><\/th>\n",
       "      <th><\/th>\n",
       "      <th><\/th>\n",
       "      <th><\/th>\n",
       "      <th><\/th>\n",
       "      <th><\/th>\n",
       "      <th><\/th>\n",
       "      <th><\/th>\n",
       "      <th><\/th>\n",
       "      <th><\/th>\n",
       "      <th><\/th>\n",
       "      <th><\/th>\n",
       "      <th><\/th>\n",
       "      <th><\/th>\n",
       "      <th><\/th>\n",
       "      <th><\/th>\n",
       "      <th><\/th>\n",
       "      <th><\/th>\n",
       "      <th><\/th>\n",
       "    <\/tr>\n",
       "  <\/thead>\n",
       "  <tbody>\n",
       "    <tr>\n",
       "      <th>Sierra Leone<\/th>\n",
       "      <td>40.194<\/td>\n",
       "      <td>40.386<\/td>\n",
       "      <td>40.504<\/td>\n",
       "      <td>40.545<\/td>\n",
       "      <td>40.506<\/td>\n",
       "      <td>40.377<\/td>\n",
       "      <td>40.147<\/td>\n",
       "      <td>39.827<\/td>\n",
       "      <td>39.439<\/td>\n",
       "      <td>39.009<\/td>\n",
       "      <td>...<\/td>\n",
       "      <td>50.234<\/td>\n",
       "      <td>51.018<\/td>\n",
       "      <td>51.731<\/td>\n",
       "      <td>52.372<\/td>\n",
       "      <td>52.941<\/td>\n",
       "      <td>53.444<\/td>\n",
       "      <td>53.895<\/td>\n",
       "      <td>54.309<\/td>\n",
       "      <td>54.696<\/td>\n",
       "      <td>43.54685<\/td>\n",
       "    <\/tr>\n",
       "  <\/tbody>\n",
       "<\/table>\n",
       "<p>1 rows × 41 columns<\/p>\n",
       "<\/div>"
      ]
     },
     "metadata":{
      
     },
     "output_type":"display_data"
    }
   ],
   "metadata":{
    "datalore":{
     "type":"CODE",
     "hide_input_from_viewers":false,
     "hide_output_from_viewers":false,
     "node_id":"LqEMfJJO42NfQGKc1yVJwB"
    }
   }
  },
  {
   "cell_type":"code",
   "source":[
    "df_wp = pd.concat([sorted_values.head(1), sorted_values.tail(1), sorted_values.sample(1)])\n",
    "df_wp"
   ],
   "execution_count":9,
   "outputs":[
    {
     "data":{
      "text\/html":[
       "<div>\n",
       "<style scoped>\n",
       "    .dataframe tbody tr th:only-of-type {\n",
       "        vertical-align: middle;\n",
       "    }\n",
       "\n",
       "    .dataframe tbody tr th {\n",
       "        vertical-align: top;\n",
       "    }\n",
       "\n",
       "    .dataframe thead th {\n",
       "        text-align: right;\n",
       "    }\n",
       "<\/style>\n",
       "<table border=\"1\" class=\"dataframe\">\n",
       "  <thead>\n",
       "    <tr style=\"text-align: right;\">\n",
       "      <th>year<\/th>\n",
       "      <th>1980<\/th>\n",
       "      <th>1981<\/th>\n",
       "      <th>1982<\/th>\n",
       "      <th>1983<\/th>\n",
       "      <th>1984<\/th>\n",
       "      <th>1985<\/th>\n",
       "      <th>1986<\/th>\n",
       "      <th>1987<\/th>\n",
       "      <th>1988<\/th>\n",
       "      <th>1989<\/th>\n",
       "      <th>...<\/th>\n",
       "      <th>2011<\/th>\n",
       "      <th>2012<\/th>\n",
       "      <th>2013<\/th>\n",
       "      <th>2014<\/th>\n",
       "      <th>2015<\/th>\n",
       "      <th>2016<\/th>\n",
       "      <th>2017<\/th>\n",
       "      <th>2018<\/th>\n",
       "      <th>2019<\/th>\n",
       "      <th>Mean<\/th>\n",
       "    <\/tr>\n",
       "    <tr>\n",
       "      <th>country<\/th>\n",
       "      <th><\/th>\n",
       "      <th><\/th>\n",
       "      <th><\/th>\n",
       "      <th><\/th>\n",
       "      <th><\/th>\n",
       "      <th><\/th>\n",
       "      <th><\/th>\n",
       "      <th><\/th>\n",
       "      <th><\/th>\n",
       "      <th><\/th>\n",
       "      <th><\/th>\n",
       "      <th><\/th>\n",
       "      <th><\/th>\n",
       "      <th><\/th>\n",
       "      <th><\/th>\n",
       "      <th><\/th>\n",
       "      <th><\/th>\n",
       "      <th><\/th>\n",
       "      <th><\/th>\n",
       "      <th><\/th>\n",
       "      <th><\/th>\n",
       "    <\/tr>\n",
       "  <\/thead>\n",
       "  <tbody>\n",
       "    <tr>\n",
       "      <th>Sierra Leone<\/th>\n",
       "      <td>40.194000<\/td>\n",
       "      <td>40.38600<\/td>\n",
       "      <td>40.504000<\/td>\n",
       "      <td>40.545000<\/td>\n",
       "      <td>40.506000<\/td>\n",
       "      <td>40.377000<\/td>\n",
       "      <td>40.147000<\/td>\n",
       "      <td>39.827000<\/td>\n",
       "      <td>39.439000<\/td>\n",
       "      <td>39.009000<\/td>\n",
       "      <td>...<\/td>\n",
       "      <td>50.23400<\/td>\n",
       "      <td>51.018000<\/td>\n",
       "      <td>51.731000<\/td>\n",
       "      <td>52.372000<\/td>\n",
       "      <td>52.941000<\/td>\n",
       "      <td>53.444000<\/td>\n",
       "      <td>53.895000<\/td>\n",
       "      <td>54.309000<\/td>\n",
       "      <td>54.696000<\/td>\n",
       "      <td>43.546850<\/td>\n",
       "    <\/tr>\n",
       "    <tr>\n",
       "      <th>Japan<\/th>\n",
       "      <td>76.091707<\/td>\n",
       "      <td>76.41439<\/td>\n",
       "      <td>76.922927<\/td>\n",
       "      <td>76.961463<\/td>\n",
       "      <td>77.365366<\/td>\n",
       "      <td>77.650488<\/td>\n",
       "      <td>78.064634<\/td>\n",
       "      <td>78.483659<\/td>\n",
       "      <td>78.399268<\/td>\n",
       "      <td>78.818049<\/td>\n",
       "      <td>...<\/td>\n",
       "      <td>82.59122<\/td>\n",
       "      <td>83.096098<\/td>\n",
       "      <td>83.331951<\/td>\n",
       "      <td>83.587805<\/td>\n",
       "      <td>83.793902<\/td>\n",
       "      <td>83.984878<\/td>\n",
       "      <td>84.099756<\/td>\n",
       "      <td>84.210976<\/td>\n",
       "      <td>84.356341<\/td>\n",
       "      <td>80.712317<\/td>\n",
       "    <\/tr>\n",
       "    <tr>\n",
       "      <th>Brazil<\/th>\n",
       "      <td>62.630000<\/td>\n",
       "      <td>62.97600<\/td>\n",
       "      <td>63.326000<\/td>\n",
       "      <td>63.680000<\/td>\n",
       "      <td>64.039000<\/td>\n",
       "      <td>64.406000<\/td>\n",
       "      <td>64.782000<\/td>\n",
       "      <td>65.165000<\/td>\n",
       "      <td>65.553000<\/td>\n",
       "      <td>65.947000<\/td>\n",
       "      <td>...<\/td>\n",
       "      <td>73.92100<\/td>\n",
       "      <td>74.209000<\/td>\n",
       "      <td>74.483000<\/td>\n",
       "      <td>74.745000<\/td>\n",
       "      <td>74.994000<\/td>\n",
       "      <td>75.230000<\/td>\n",
       "      <td>75.456000<\/td>\n",
       "      <td>75.672000<\/td>\n",
       "      <td>75.881000<\/td>\n",
       "      <td>69.720125<\/td>\n",
       "    <\/tr>\n",
       "  <\/tbody>\n",
       "<\/table>\n",
       "<p>3 rows × 41 columns<\/p>\n",
       "<\/div>"
      ]
     },
     "metadata":{
      
     },
     "output_type":"display_data"
    }
   ],
   "metadata":{
    "datalore":{
     "type":"CODE",
     "hide_input_from_viewers":false,
     "hide_output_from_viewers":false,
     "node_id":"t97lBk8MpRfl5odEX5GPhF"
    }
   }
  },
  {
   "cell_type":"code",
   "source":[
    "mean_values_total = sum(df_wp['Mean'])\n",
    "cat_propor = [val \/ mean_values_total for val in df_wp['Mean']]\n",
    "for i, prop in enumerate(cat_propor):\n",
    "    print(\"{} : {}\".format(df_wp.index.values[i], prop))"
   ],
   "execution_count":10,
   "outputs":[
    {
     "name":"stdout",
     "text":[
      "Sierra Leone : 0.22449226169757205\n",
      "Japan : 0.4160872854548068\n",
      "Brazil : 0.3594204528476212\n"
     ],
     "output_type":"stream"
    }
   ],
   "metadata":{
    "datalore":{
     "type":"CODE",
     "hide_input_from_viewers":false,
     "hide_output_from_viewers":false,
     "node_id":"Mf3iW7jTsjLdPJuu5G9z4i"
    }
   }
  },
  {
   "cell_type":"code",
   "source":[
    "width, height = 40, 10\n",
    "total_num = width*height"
   ],
   "execution_count":4,
   "outputs":[
    
   ],
   "metadata":{
    "datalore":{
     "type":"CODE",
     "hide_input_from_viewers":false,
     "hide_output_from_viewers":false,
     "node_id":"58NbNaT6K64V1omFfDcA28"
    }
   }
  },
  {
   "cell_type":"code",
   "source":[
    "tiles_per_cat = [round(prop * total_num) for prop in cat_propor]\n",
    "for i, prop in enumerate(tiles_per_cat):\n",
    "    print(\"{} : {}\".format(df_wp.index.values[i], prop))"
   ],
   "execution_count":11,
   "outputs":[
    {
     "name":"stdout",
     "text":[
      "Sierra Leone : 90\n",
      "Japan : 166\n",
      "Brazil : 144\n"
     ],
     "output_type":"stream"
    }
   ],
   "metadata":{
    "datalore":{
     "type":"CODE",
     "hide_input_from_viewers":false,
     "hide_output_from_viewers":false,
     "node_id":"umkCZhPIA9RSzantQHuWyQ"
    }
   }
  },
  {
   "cell_type":"code",
   "source":[
    "waffle_chart = np.zeros((height, width))\n",
    "cat_index, tile_index = 0, 0\n",
    "\n",
    "for col in range(width):\n",
    "    for row in range(height):\n",
    "        tile_index += 1\n",
    "        if tile_index > sum(tiles_per_cat[:cat_index]):\n",
    "            cat_index += 1\n",
    "        waffle_chart[row, col] = cat_index\n",
    "waffle_chart       "
   ],
   "execution_count":12,
   "outputs":[
    {
     "data":{
      "text\/html":[
       
      ]
     },
     "metadata":{
      
     },
     "output_type":"display_data"
    }
   ],
   "metadata":{
    "datalore":{
     "type":"CODE",
     "hide_input_from_viewers":false,
     "hide_output_from_viewers":false,
     "node_id":"7WbRxUklZZtRKzyVUmKbr0"
    }
   }
  },
  {
   "cell_type":"code",
   "source":[
    "fig = plt.figure()\n",
    "colormap = plt.cm.cividis\n",
    "plt.matshow(waffle_chart, cmap=colormap)\n",
    "plt.colorbar()\n",
    "# Получение текущих осей, если их нет, то они создаются.\n",
    "ax = plt.gca() \n",
    "\n",
    "# set minor ticks\n",
    "ax.set_xticks(np.arange(-0.5, (width), 1), minor=True)\n",
    "ax.set_yticks(np.arange(-0.5, (height), 1), minor=True)\n",
    "    \n",
    "# add gridlines based on minor ticks\n",
    "ax.grid(which='minor', color='black', linestyle='-', linewidth=1)\n",
    "\n",
    "plt.xticks([])\n",
    "plt.yticks([])\n",
    "\n",
    "legends = []\n",
    "\n",
    "values_cum_sum = np.cumsum(df_wp['Mean'])\n",
    "total = values_cum_sum[-1]\n",
    "\n",
    "for index, country in enumerate(df_wp.index.values):\n",
    "    label = '{}: {}'.format(country, df_wp['Mean'][index])\n",
    "    colorm = colormap(values_cum_sum[index]\/total-0.1)\n",
    "    legends.append(mpatches.Patch(color = colorm, label=label))\n",
    "\n",
    "plt.legend(handles=legends, \n",
    "            loc='lower center', \n",
    "            ncol=len(df_wp.index.values), \n",
    "            bbox_to_anchor=(0, -0.2, 1, 0.5)) # x, y, (координаты нижнего левого угла) width, height\n"
   ],
   "execution_count":13,
   "outputs":[
    {
     "data":{
      "text\/plain":[
       "<matplotlib.legend.Legend at 0x7f78d3291f70>"
      ]
     },
     "metadata":{
      
     },
     "output_type":"display_data"
    },
    {
     "data":{
      "text\/plain":[
       "<Figure size 432x288 with 0 Axes>"
      ]
     },
     "metadata":{
      
     },
     "output_type":"display_data"
    },
    {
     "data":{
      "image\/png":"[encoded data removed]"
     },
     "metadata":{
      "image\/png":{
       
      }
     },
     "output_type":"display_data"
    }
   ],
   "metadata":{
    "datalore":{
     "type":"CODE",
     "hide_input_from_viewers":false,
     "hide_output_from_viewers":false,
     "node_id":"O4cSgutxXvshApn5dPB4G1"
    }
   }
  },
  {
   "cell_type":"code",
   "source":[
    "df_wp['Mean']"
   ],
   "execution_count":34,
   "outputs":[
    {
     "data":{
      "text\/plain":[
       "country\n",
       "Sierra Leone    43.260974\n",
       "Japan           80.618881\n",
       "Suriname        68.487462\n",
       "Name: Mean, dtype: float64"
      ]
     },
     "metadata":{
      
     },
     "output_type":"display_data"
    }
   ],
   "metadata":{
    "datalore":{
     "type":"CODE",
     "hide_input_from_viewers":false,
     "hide_output_from_viewers":false,
     "node_id":"CD22RbW1atDA3CJ1ugqB1d"
    }
   }
  },
  {
   "cell_type":"code",
   "source":[
    "arr = np.array([1, 2, 3])\n",
    "np.cumsum(arr)"
   ],
   "execution_count":35,
   "outputs":[
    {
     "data":{
      "text\/plain":[
       "array([1, 3, 6])"
      ]
     },
     "metadata":{
      
     },
     "output_type":"display_data"
    }
   ],
   "metadata":{
    "datalore":{
     "type":"CODE",
     "hide_input_from_viewers":false,
     "hide_output_from_viewers":false,
     "node_id":"dwStOvDmf4E6wqytCt5Eph"
    }
   }
  },
  {
   "cell_type":"code",
   "source":[
    "values_cum_sum = np.cumsum(df_wp['Mean'])\n",
    "total = values_cum_sum[-1]\n",
    "print(values_cum_sum)\n",
    "total"
   ],
   "execution_count":40,
   "outputs":[
    {
     "name":"stdout",
     "text":[
      "country\n",
      "Sierra Leone     43.260974\n",
      "Japan           123.879855\n",
      "Suriname        192.367316\n",
      "Name: Mean, dtype: float64\n"
     ],
     "output_type":"stream"
    },
    {
     "data":{
      "text\/plain":[
       "192.3673164477799"
      ]
     },
     "metadata":{
      
     },
     "output_type":"display_data"
    }
   ],
   "metadata":{
    "datalore":{
     "type":"CODE",
     "hide_input_from_viewers":false,
     "hide_output_from_viewers":false,
     "node_id":"NSBywV8L6PJMIy4n8rFYS7"
    }
   }
  },
  {
   "cell_type":"code",
   "source":[
    
   ],
   "execution_count":null,
   "outputs":[
    
   ],
   "metadata":{
    "datalore":{
     "type":"CODE",
     "hide_input_from_viewers":false,
     "hide_output_from_viewers":false,
     "node_id":"on740p0sR8gZsS827r7i1Q"
    }
   }
  },
  {
   "cell_type":"code",
   "source":[
    
   ],
   "execution_count":null,
   "outputs":[
    
   ],
   "metadata":{
    "datalore":{
     "type":"CODE",
     "hide_input_from_viewers":false,
     "hide_output_from_viewers":false,
     "node_id":"UjAwoVlhBLNeMlLcaDd5R5"
    }
   }
  },
  {
   "cell_type":"code",
   "source":[
    
   ],
   "execution_count":null,
   "outputs":[
    
   ],
   "metadata":{
    "datalore":{
     "type":"CODE",
     "hide_input_from_viewers":false,
     "hide_output_from_viewers":false,
     "node_id":"78oAMk6CxzQC3J9GZQQvzd"
    }
   }
  },
  {
   "cell_type":"code",
   "source":[
    
   ],
   "execution_count":null,
   "outputs":[
    
   ],
   "metadata":{
    "datalore":{
     "type":"CODE",
     "hide_input_from_viewers":false,
     "hide_output_from_viewers":false,
     "node_id":"nqoeC6A4tBD7B0MDkV6Hcj"
    }
   }
  },
  {
   "cell_type":"code",
   "source":[
    
   ],
   "execution_count":null,
   "outputs":[
    
   ],
   "metadata":{
    "datalore":{
     "type":"CODE",
     "hide_input_from_viewers":false,
     "hide_output_from_viewers":false,
     "node_id":"EV7Gb9sLM2EhtPWfev7M95"
    }
   }
  }
 ],
 "metadata":{
  "kernelspec":{
   "display_name":"Python",
   "language":"python",
   "name":"python"
  },
  "datalore":{
   "version":1,
   "computation_mode":"JUPYTER",
   "package_manager":"pip",
   "base_environment":"default",
   "packages":[
    {
     "name":"pandas-datareader",
     "version":"0.9.0",
     "source":"PIP"
    }
   ]
  }
 },
 "nbformat":4,
 "nbformat_minor":4
}