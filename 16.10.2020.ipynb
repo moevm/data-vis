{
 "cells": [
  {
   "cell_type": "code",
   "execution_count": 2,
   "metadata": {},
   "outputs": [
    {
     "name": "stdout",
     "output_type": "stream",
     "text": [
      "a    -1\n",
      "b    -4\n",
      "c     0\n",
      "d    10\n",
      "dtype: object\n"
     ]
    },
    {
     "data": {
      "text/plain": [
       "-4"
      ]
     },
     "execution_count": 2,
     "metadata": {},
     "output_type": "execute_result"
    }
   ],
   "source": [
    "import pandas as pd\n",
    "import numpy as np\n",
    "\n",
    "s = pd.Series([-1, -4, 0, '10'], index=list('abcd'))\n",
    "print(s)\n",
    "s[1]"
   ]
  },
  {
   "cell_type": "code",
   "execution_count": 17,
   "metadata": {},
   "outputs": [
    {
     "data": {
      "text/plain": [
       "'error'"
      ]
     },
     "execution_count": 17,
     "metadata": {},
     "output_type": "execute_result"
    }
   ],
   "source": [
    "s = pd.Series({'a': 1, 'b': 2})\n",
    "s.get('c', 'error')"
   ]
  },
  {
   "cell_type": "code",
   "execution_count": 20,
   "metadata": {},
   "outputs": [
    {
     "data": {
      "text/plain": [
       "0    -3.0\n",
       "1    -2.5\n",
       "2    -2.0\n",
       "3    -1.5\n",
       "4    -1.0\n",
       "5    -0.5\n",
       "6     0.0\n",
       "7     0.5\n",
       "8     1.0\n",
       "9     1.5\n",
       "10    2.0\n",
       "11    2.5\n",
       "dtype: float64"
      ]
     },
     "execution_count": 20,
     "metadata": {},
     "output_type": "execute_result"
    }
   ],
   "source": [
    "s = pd.Series(np.arange(-3, 3, 0.5))\n",
    "s"
   ]
  },
  {
   "cell_type": "code",
   "execution_count": 22,
   "metadata": {},
   "outputs": [
    {
     "data": {
      "text/plain": [
       "0    10\n",
       "dtype: int64"
      ]
     },
     "execution_count": 22,
     "metadata": {},
     "output_type": "execute_result"
    }
   ],
   "source": [
    "s = pd.Series(10)\n",
    "s"
   ]
  },
  {
   "cell_type": "code",
   "execution_count": 28,
   "metadata": {},
   "outputs": [
    {
     "name": "stdout",
     "output_type": "stream",
     "text": [
      "a    -1\n",
      "b    -4\n",
      "c     0\n",
      "d    10\n",
      "dtype: object\n",
      "Index(['a', 'b', 'c', 'd'], dtype='object')\n"
     ]
    },
    {
     "data": {
      "text/plain": [
       "4"
      ]
     },
     "execution_count": 28,
     "metadata": {},
     "output_type": "execute_result"
    }
   ],
   "source": [
    "s = pd.Series([-1, -4, 0, '10'], index=list('abcd'))\n",
    "print(s)\n",
    "print(s.index)\n",
    "len(s), s.size\n",
    "shape = s.shape\n",
    "n = shape[0]\n",
    "n"
   ]
  },
  {
   "cell_type": "code",
   "execution_count": 38,
   "metadata": {},
   "outputs": [
    {
     "data": {
      "text/plain": [
       "s    s\n",
       "f    f\n",
       "j    j\n",
       "e    e\n",
       "dtype: object"
      ]
     },
     "execution_count": 38,
     "metadata": {},
     "output_type": "execute_result"
    }
   ],
   "source": [
    "s = pd.Series(list('asdfghjkertyuifv'), index=list('asdfghjkertyuifv'))\n",
    "s.head(1)\n",
    "s.tail(1)\n",
    "s.take([1, 3, 6, 8])"
   ]
  },
  {
   "cell_type": "code",
   "execution_count": 61,
   "metadata": {},
   "outputs": [
    {
     "data": {
      "text/plain": [
       "a    4\n",
       "b    5\n",
       "c   -9\n",
       "dtype: int64"
      ]
     },
     "execution_count": 61,
     "metadata": {},
     "output_type": "execute_result"
    }
   ],
   "source": [
    "s = pd.Series([1, 2, 3], index=[1, 1, 0])\n",
    "s[0] = 10\n",
    "s[1] = -4\n",
    "s = pd.Series([4, 5, -9], index=['a', 'b', 'c'])\n",
    "s"
   ]
  },
  {
   "cell_type": "code",
   "execution_count": 60,
   "metadata": {},
   "outputs": [
    {
     "data": {
      "text/plain": [
       "a    4\n",
       "c   -9\n",
       "dtype: int64"
      ]
     },
     "execution_count": 60,
     "metadata": {},
     "output_type": "execute_result"
    }
   ],
   "source": [
    "s.iloc[0]\n",
    "s.iloc[[0, 2]]"
   ]
  },
  {
   "cell_type": "code",
   "execution_count": 58,
   "metadata": {},
   "outputs": [
    {
     "data": {
      "text/plain": [
       "a    4\n",
       "c   -9\n",
       "dtype: int64"
      ]
     },
     "execution_count": 58,
     "metadata": {},
     "output_type": "execute_result"
    }
   ],
   "source": [
    "s.loc[['a', 'c']]"
   ]
  },
  {
   "cell_type": "code",
   "execution_count": 64,
   "metadata": {},
   "outputs": [
    {
     "data": {
      "text/plain": [
       "a    a\n",
       "s    s\n",
       "d    d\n",
       "f    f\n",
       "g    g\n",
       "h    h\n",
       "j    j\n",
       "k    k\n",
       "e    e\n",
       "r    r\n",
       "t    t\n",
       "y    y\n",
       "u    u\n",
       "i    i\n",
       "f    f\n",
       "v    v\n",
       "dtype: object"
      ]
     },
     "execution_count": 64,
     "metadata": {},
     "output_type": "execute_result"
    }
   ],
   "source": [
    "s = pd.Series(list('asdfghjkertyuifv'), index=list('asdfghjkertyuifv'))\n",
    "s"
   ]
  },
  {
   "cell_type": "code",
   "execution_count": 65,
   "metadata": {},
   "outputs": [
    {
     "data": {
      "text/plain": [
       "d    d\n",
       "g    g\n",
       "j    j\n",
       "dtype: object"
      ]
     },
     "execution_count": 65,
     "metadata": {},
     "output_type": "execute_result"
    }
   ],
   "source": [
    "s.iloc[2:8:2]"
   ]
  },
  {
   "cell_type": "code",
   "execution_count": 69,
   "metadata": {},
   "outputs": [
    {
     "data": {
      "text/plain": [
       "s    s\n",
       "d    d\n",
       "f    f\n",
       "g    g\n",
       "h    h\n",
       "j    j\n",
       "k    k\n",
       "e    e\n",
       "r    r\n",
       "t    t\n",
       "y    y\n",
       "u    u\n",
       "i    i\n",
       "dtype: object"
      ]
     },
     "execution_count": 69,
     "metadata": {},
     "output_type": "execute_result"
    }
   ],
   "source": [
    "s.loc['s':'i']"
   ]
  },
  {
   "cell_type": "code",
   "execution_count": null,
   "metadata": {},
   "outputs": [],
   "source": [
    "# создайте серию из массива numpy, таким образом, чтобы значения серии были от -3 до 3 с шагом 0.5\n",
    "# элементы должны быть маркированы латинскими буквами\n",
    "# извлечь элементы с порядковыми номерами 2, 4, 6\n",
    "# извлечь элементы с b до f"
   ]
  },
  {
   "cell_type": "code",
   "execution_count": 8,
   "metadata": {},
   "outputs": [
    {
     "data": {
      "text/plain": [
       "a    0.103\n",
       "b   -0.300\n",
       "c   -5.000\n",
       "d    7.000\n",
       "e    0.000\n",
       "f    3.000\n",
       "dtype: float64"
      ]
     },
     "execution_count": 8,
     "metadata": {},
     "output_type": "execute_result"
    }
   ],
   "source": [
    "a = pd.Series([1, 2, 3, 4, 5, 6], index=list('bcdegf'))\n",
    "b = pd.Series([0.2, -0.3, -5, 7, 0, 3], index=list('abcdef'))\n",
    "b"
   ]
  },
  {
   "cell_type": "code",
   "execution_count": 19,
   "metadata": {},
   "outputs": [
    {
     "name": "stdout",
     "output_type": "stream",
     "text": [
      "15\n"
     ]
    },
    {
     "data": {
      "text/plain": [
       "1    -4.000000e-01\n",
       "3    -2.000000e-01\n",
       "5    -1.110223e-16\n",
       "7     2.000000e-01\n",
       "9     4.000000e-01\n",
       "11    6.000000e-01\n",
       "13    8.000000e-01\n",
       "dtype: float64"
      ]
     },
     "execution_count": 19,
     "metadata": {},
     "output_type": "execute_result"
    }
   ],
   "source": [
    "c = pd.Series(np.arange(-0.5, 1, 0.1))\n",
    "print(len(c))\n",
    "cond = round(abs(c) * 10) % 2 == 0\n",
    "\n",
    "c[cond]"
   ]
  },
  {
   "cell_type": "code",
   "execution_count": 24,
   "metadata": {},
   "outputs": [
    {
     "data": {
      "text/plain": [
       "6    0.1\n",
       "7    0.2\n",
       "8    0.3\n",
       "dtype: float64"
      ]
     },
     "execution_count": 24,
     "metadata": {},
     "output_type": "execute_result"
    }
   ],
   "source": [
    "\n",
    "c[(c > 0) & (abs(c - 0.4) > 0.05) & (c < 0.4)]"
   ]
  }
 ],
 "metadata": {
  "kernelspec": {
   "display_name": "Python 3",
   "language": "python",
   "name": "python3"
  },
  "language_info": {
   "codemirror_mode": {
    "name": "ipython",
    "version": 3
   },
   "file_extension": ".py",
   "mimetype": "text/x-python",
   "name": "python",
   "nbconvert_exporter": "python",
   "pygments_lexer": "ipython3",
   "version": "3.6.10"
  }
 },
 "nbformat": 4,
 "nbformat_minor": 4
}
