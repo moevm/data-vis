from wordcloud import WordCloud, STOPWORDS, ImageColorGenerator
import pandas as pd
%matplotlib inline
import numpy as np
import matplotlib as mpl
import matplotlib.pyplot as plt
import os
from PIL import Image


with open('./fr_merc_songs.txt') as f:
    fr_merc_songs = f.read().lower()
    
freddie_mask = np.array(Image.open('./freddie-mercury-5-png-1001573170861bk08infhnj.png'))

first = np.array(freddie_mask[0, 0])
for i, row in enumerate(freddy_mask):
    for j, el in enumerate(row):
        if np.array_equal(el, first):
            freddie_mask[i, j] = np.array([0, 0, 0, 255])
        else:
            freddie_mask[i, j] = np.array([255, 255, 255, 255])

freddie_wc = WordCloud(background_color='black', max_words=20000, mask=freddie_mask, stopwords=STOPWORDS, 
                      contour_width=1, contour_color='steelblue', prefer_horizontal=0.3)
freddie_wc.generate(fr_merc_songs)

fig = plt.figure()
fig.set_figwidth(14)
fig.set_figheight(18)

plt.imshow(freddie_wc.recolor(colormap='PuBu', random_state=3),
           interpolation="bilinear")
plt.axis('off')
plt.show()
